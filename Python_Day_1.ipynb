{
  "nbformat": 4,
  "nbformat_minor": 0,
  "metadata": {
    "colab": {
      "provenance": [],
      "authorship_tag": "ABX9TyNOV8ZgpiyKzoIA+iwcxVpR",
      "include_colab_link": true
    },
    "kernelspec": {
      "name": "python3",
      "display_name": "Python 3"
    },
    "language_info": {
      "name": "python"
    }
  },
  "cells": [
    {
      "cell_type": "markdown",
      "metadata": {
        "id": "view-in-github",
        "colab_type": "text"
      },
      "source": [
        "<a href=\"https://colab.research.google.com/github/Samissi/Python/blob/main/Python_Day_1.ipynb\" target=\"_parent\"><img src=\"https://colab.research.google.com/assets/colab-badge.svg\" alt=\"Open In Colab\"/></a>"
      ]
    },
    {
      "cell_type": "markdown",
      "source": [
        "#Basic python Program"
      ],
      "metadata": {
        "id": "69Vmwsg-wY3U"
      }
    },
    {
      "cell_type": "markdown",
      "source": [
        "###1. Arithmetic Operator"
      ],
      "metadata": {
        "id": "PQ-0iNwRIrm7"
      }
    },
    {
      "cell_type": "markdown",
      "source": [
        "###Simple Arithmetic Operation"
      ],
      "metadata": {
        "id": "kXWxQmXSwvPQ"
      }
    },
    {
      "cell_type": "code",
      "source": [
        "a=10\n",
        "b=20\n",
        "c=a+b\n",
        "print(c)"
      ],
      "metadata": {
        "colab": {
          "base_uri": "https://localhost:8080/"
        },
        "id": "nFwEpT1p492g",
        "outputId": "deed97e6-22bd-4b28-ed1e-8818c1120501"
      },
      "execution_count": null,
      "outputs": [
        {
          "output_type": "stream",
          "name": "stdout",
          "text": [
            "30\n"
          ]
        }
      ]
    },
    {
      "cell_type": "markdown",
      "source": [
        "###Simple Arithmetic -Get a input from user(+,-,*,/,%)"
      ],
      "metadata": {
        "id": "OIVZCLjG5XkH"
      }
    },
    {
      "cell_type": "code",
      "source": [
        "a=int(input(\"Enter the value of a:\"))\n",
        "b=int(input(\"Enter the value of b:\"))\n",
        "add=a+b\n",
        "sub=a-b\n",
        "multi=a*b\n",
        "div=a/b\n",
        "mod=a%b\n",
        "print(\"Sum: {0}, Diff:{1}, Multi:{2}, Div:{3}, Mod:{4}\".format(add,sub,multi,div,mod)) #Print using with format\n",
        "print(\"Sum:%d , Diff:%d, Multi:%d, Div:%10.3f, Mod:%d\"%(add,sub,multi,div,mod)) #Print using with padding & precisition\n"
      ],
      "metadata": {
        "colab": {
          "base_uri": "https://localhost:8080/"
        },
        "id": "R51LsdZAw2DH",
        "outputId": "57245990-ed03-40ad-e3b7-46c3fb012813"
      },
      "execution_count": null,
      "outputs": [
        {
          "output_type": "stream",
          "name": "stdout",
          "text": [
            "Enter the value of a:45\n",
            "Enter the value of b:5\n",
            "Sum: 50, Diff:40, Multi:225, Div:9.0, Mod:0\n",
            "Sum:50 , Diff:40, Multi:225, Div:     9.000, Mod:0\n"
          ]
        }
      ]
    },
    {
      "cell_type": "code",
      "source": [
        "print(\"{0:<5}  |  {1:<5}  |  {2:<5}  |  {3:<5}  |  {4:>5}\".format('Sum','Diff','Multi','div','mod'))\n",
        "print(\"{0:<5}  |  {1:<5}  |  {2:<5}  |  {3:<5}  |  {4:>5}\".format(add,sub,multi,div,mod))"
      ],
      "metadata": {
        "colab": {
          "base_uri": "https://localhost:8080/"
        },
        "id": "fg41JB5RDvZF",
        "outputId": "b77c916e-7d27-49dd-f2d9-3237704d9136"
      },
      "execution_count": null,
      "outputs": [
        {
          "output_type": "stream",
          "name": "stdout",
          "text": [
            "Sum    |  Diff   |  Multi  |  div    |    mod\n",
            "50     |  40     |  225    |  9.0    |      0\n"
          ]
        }
      ]
    },
    {
      "cell_type": "markdown",
      "source": [
        "###Simple Arithmetic -Geta a input from user(POWER)"
      ],
      "metadata": {
        "id": "9q_uN7ySIFgA"
      }
    },
    {
      "cell_type": "code",
      "source": [
        "a=2\n",
        "b=4\n",
        "power=a**b\n",
        "print(power)"
      ],
      "metadata": {
        "colab": {
          "base_uri": "https://localhost:8080/"
        },
        "id": "PnnJbBMpG54f",
        "outputId": "cd78e34f-6d93-4ed2-9123-3b280642d671"
      },
      "execution_count": null,
      "outputs": [
        {
          "output_type": "stream",
          "name": "stdout",
          "text": [
            "16\n"
          ]
        }
      ]
    },
    {
      "cell_type": "markdown",
      "source": [
        "###2. Strings"
      ],
      "metadata": {
        "id": "QTTiwV0cI4w5"
      }
    },
    {
      "cell_type": "markdown",
      "source": [
        "###Create a strings"
      ],
      "metadata": {
        "id": "iSzYws9zJXGp"
      }
    },
    {
      "cell_type": "code",
      "source": [
        "a=\"Farjana\"\n",
        "b=\"banu\"\n",
        "print(a+b)"
      ],
      "metadata": {
        "colab": {
          "base_uri": "https://localhost:8080/"
        },
        "id": "U3TI3vvcI7Xc",
        "outputId": "1e1053b9-0c5f-4412-b3b4-8db9c37f0fb6"
      },
      "execution_count": null,
      "outputs": [
        {
          "output_type": "stream",
          "name": "stdout",
          "text": [
            "Farjanabanu\n"
          ]
        }
      ]
    },
    {
      "cell_type": "markdown",
      "source": [
        "###length of strings"
      ],
      "metadata": {
        "id": "dW1Ds8NgJnIa"
      }
    },
    {
      "cell_type": "code",
      "source": [
        "a=\"Farjana\"\n",
        "print(len(a))"
      ],
      "metadata": {
        "colab": {
          "base_uri": "https://localhost:8080/"
        },
        "id": "e2JUbt5mJlRZ",
        "outputId": "46d4568c-41a7-4f4b-a115-cd372b1c6a50"
      },
      "execution_count": null,
      "outputs": [
        {
          "output_type": "stream",
          "name": "stdout",
          "text": [
            "7\n"
          ]
        }
      ]
    },
    {
      "cell_type": "code",
      "source": [
        "a=\"A\"\n",
        "b=a*6\n",
        "print(b)"
      ],
      "metadata": {
        "colab": {
          "base_uri": "https://localhost:8080/"
        },
        "id": "NmZsM0UeJ2zD",
        "outputId": "459bb380-16b8-43a9-e869-6ee1c8a6a999"
      },
      "execution_count": null,
      "outputs": [
        {
          "output_type": "stream",
          "name": "stdout",
          "text": [
            "AAAAAA\n"
          ]
        }
      ]
    },
    {
      "cell_type": "markdown",
      "source": [
        "###String Index"
      ],
      "metadata": {
        "id": "UCnF82XSKbOf"
      }
    },
    {
      "cell_type": "code",
      "source": [
        "a=\"Farjana\"\n",
        "print(a[3]) #identifing the element based on index\n",
        "print(a[2:]) #Grab the remaing elements except upto the Index\n",
        "print(a[:2]) #Grab the elements upto the Index\n",
        "print(a[-1]) #Grab the Last element\n",
        "print(a[:-1]) #Grab the elements except last element\n",
        "print(a[-2:])\n",
        "print(a[::2]) #Grab everything with 2 steps\n",
        "print(a[::-1]) #Print string backwards"
      ],
      "metadata": {
        "colab": {
          "base_uri": "https://localhost:8080/"
        },
        "id": "7tTPiHQuKD6Q",
        "outputId": "ca34191b-58d0-4daa-faa9-126160715305"
      },
      "execution_count": null,
      "outputs": [
        {
          "output_type": "stream",
          "name": "stdout",
          "text": [
            "j\n",
            "rjana\n",
            "Fa\n",
            "a\n",
            "Farjan\n",
            "na\n",
            "Fraa\n",
            "anajraF\n"
          ]
        }
      ]
    }
  ]
}